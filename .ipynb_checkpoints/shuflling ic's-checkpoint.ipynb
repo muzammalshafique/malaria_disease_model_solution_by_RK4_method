{
 "cells": [
  {
   "cell_type": "code",
   "execution_count": 1,
   "id": "a049fe70",
   "metadata": {},
   "outputs": [
    {
     "name": "stdout",
     "output_type": "stream",
     "text": [
      "Shuffling completed successfully.\n"
     ]
    }
   ],
   "source": [
    "import openpyxl\n",
    "import random\n",
    "\n",
    "# Load the Excel file\n",
    "filename = 'ic.xlsx'  # Replace with the actual Excel file name\n",
    "workbook = openpyxl.load_workbook(filename)\n",
    "\n",
    "# Get the active sheet\n",
    "sheet = workbook.active\n",
    "\n",
    "# Get the dimensions of the sheet\n",
    "max_row = sheet.max_row\n",
    "max_column = sheet.max_column\n",
    "\n",
    "# Shuffle the row and column indices\n",
    "row_indices = list(range(1, max_row + 1))\n",
    "random.shuffle(row_indices)\n",
    "\n",
    "column_indices = list(range(1, max_column + 1))\n",
    "random.shuffle(column_indices)\n",
    "\n",
    "# Create a new workbook to store the shuffled data\n",
    "shuffled_workbook = openpyxl.Workbook()\n",
    "shuffled_sheet = shuffled_workbook.active\n",
    "\n",
    "# Copy data from the original sheet to the shuffled sheet\n",
    "for i in range(max_row):\n",
    "    for j in range(max_column):\n",
    "        cell = sheet.cell(row=row_indices[i], column=column_indices[j])\n",
    "        value = cell.value\n",
    "        shuffled_sheet.cell(row=i + 1, column=j + 1, value=value)\n",
    "\n",
    "# Save the shuffled workbook\n",
    "shuffled_filename = 'shuff_ic.xlsx'  # Replace with the desired output file name\n",
    "shuffled_workbook.save(shuffled_filename)\n",
    "\n",
    "print('Shuffling completed successfully.')"
   ]
  },
  {
   "cell_type": "code",
   "execution_count": null,
   "id": "f644749c",
   "metadata": {},
   "outputs": [],
   "source": []
  }
 ],
 "metadata": {
  "kernelspec": {
   "display_name": "Python 3 (ipykernel)",
   "language": "python",
   "name": "python3"
  },
  "language_info": {
   "codemirror_mode": {
    "name": "ipython",
    "version": 3
   },
   "file_extension": ".py",
   "mimetype": "text/x-python",
   "name": "python",
   "nbconvert_exporter": "python",
   "pygments_lexer": "ipython3",
   "version": "3.11.2"
  }
 },
 "nbformat": 4,
 "nbformat_minor": 5
}
